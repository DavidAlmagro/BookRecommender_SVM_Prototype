{
 "cells": [
  {
   "cell_type": "markdown",
   "metadata": {},
   "source": [
    "# Book Recommender Prototype\n",
    "\n",
    "Welcome to the **Book Recommender System** project! This repository contains the implementation of a collaborative filtering-based recommendation system for a fictional bookstore, **Books’R’Us**.\n",
    "\n",
    "The system leverages the **Surprise** library to predict user preferences and recommend books based on past interactions. It is trained on user ratings data, using algorithms such as **KNNBasic**, to provide personalized book suggestions.\n",
    "\n",
    "## Features\n",
    "- Collaborative filtering using user-item interactions.\n",
    "- Predictions for user-book ratings.\n",
    "- Scalable and flexible for integration into e-commerce platforms.\n",
    "\n",
    "## Goal\n",
    "This project aims to demonstrate the fundamentals of building a recommender system that can enhance user engagement and improve sales by providing tailored recommendations.\n"
   ]
  },
  {
   "cell_type": "markdown",
   "metadata": {},
   "source": [
    "## Libraries Import & dataset download"
   ]
  },
  {
   "cell_type": "code",
   "execution_count": 25,
   "metadata": {},
   "outputs": [],
   "source": [
    "import pandas as pd\n",
    "from surprise import Reader\n",
    "\n"
   ]
  },
  {
   "cell_type": "markdown",
   "metadata": {},
   "source": [
    "## Dataset Import"
   ]
  },
  {
   "cell_type": "code",
   "execution_count": 26,
   "metadata": {},
   "outputs": [
    {
     "name": "stdout",
     "output_type": "stream",
     "text": [
      "                            user_id   book_id  rating\n",
      "0  d089c9b670c0b0b339353aebbace46a1   7686667       3\n",
      "1  6dcb2c16e12a41ae0c6c38e9d46f3292  18073066       5\n",
      "2  244e0ce681148a7586d7746676093ce9  13610986       5\n",
      "3  73fcc25ff29f8b73b3a7578aec846394  27274343       1\n",
      "4  f8880e158a163388a990b64fec7df300  11614718       4\n"
     ]
    }
   ],
   "source": [
    "book_ratings = pd.read_csv('20241208_rating_data.csv', sep=\";\")\n",
    "print(book_ratings.head())"
   ]
  },
  {
   "cell_type": "markdown",
   "metadata": {},
   "source": [
    "# 1. Print Dataset Size and Examine Column Data Types\n"
   ]
  },
  {
   "cell_type": "code",
   "execution_count": 27,
   "metadata": {},
   "outputs": [
    {
     "name": "stdout",
     "output_type": "stream",
     "text": [
      "<class 'pandas.core.frame.DataFrame'>\n",
      "RangeIndex: 3500 entries, 0 to 3499\n",
      "Data columns (total 3 columns):\n",
      " #   Column   Non-Null Count  Dtype \n",
      "---  ------   --------------  ----- \n",
      " 0   user_id  3500 non-null   object\n",
      " 1   book_id  3500 non-null   int64 \n",
      " 2   rating   3500 non-null   int64 \n",
      "dtypes: int64(2), object(1)\n",
      "memory usage: 82.2+ KB\n",
      "None\n"
     ]
    }
   ],
   "source": [
    "# Check dataset information\n",
    "print(book_ratings.info())"
   ]
  },
  {
   "cell_type": "markdown",
   "metadata": {},
   "source": [
    "# 2. Distribution of Ratings\n"
   ]
  },
  {
   "cell_type": "code",
   "execution_count": 28,
   "metadata": {},
   "outputs": [
    {
     "name": "stdout",
     "output_type": "stream",
     "text": [
      "rating\n",
      "0     120\n",
      "1     125\n",
      "2     269\n",
      "3     707\n",
      "4    1278\n",
      "5    1001\n",
      "Name: count, dtype: int64\n"
     ]
    }
   ],
   "source": [
    "# Get the sorted distribution of ratings\n",
    "rating_counts_sorted = book_ratings['rating'].value_counts().sort_index()\n",
    "print(rating_counts_sorted)"
   ]
  },
  {
   "cell_type": "markdown",
   "metadata": {},
   "source": [
    "# 3. Filter Ratings That Are Out of Range\n"
   ]
  },
  {
   "cell_type": "code",
   "execution_count": 29,
   "metadata": {},
   "outputs": [
    {
     "name": "stdout",
     "output_type": "stream",
     "text": [
      "rating\n",
      "1     125\n",
      "2     269\n",
      "3     707\n",
      "4    1278\n",
      "5    1001\n",
      "Name: count, dtype: int64\n"
     ]
    }
   ],
   "source": [
    "# Keep only ratings in the range of 1 to 5 inclusive\n",
    "book_ratings_filtered = book_ratings[(book_ratings['rating'] >= 1) & (book_ratings['rating'] <= 5)]\n",
    "\n",
    "# Get the sorted distribution of filtered ratings\n",
    "rating_filtered_counts_sorted = book_ratings_filtered['rating'].value_counts().sort_index()\n",
    "print(rating_filtered_counts_sorted)"
   ]
  },
  {
   "cell_type": "markdown",
   "metadata": {},
   "source": [
    "# 4. Prepare Data for Surprise: Build a Surprise Reader Object"
   ]
  },
  {
   "cell_type": "code",
   "execution_count": 30,
   "metadata": {},
   "outputs": [
    {
     "name": "stdout",
     "output_type": "stream",
     "text": [
      "<surprise.reader.Reader object at 0x13d173aa0>\n"
     ]
    }
   ],
   "source": [
    "from surprise import Reader\n",
    "\n",
    "# Define the rating scale (1 to 5 inclusive)\n",
    "reader = Reader(rating_scale=(1, 5))\n",
    "print(reader)"
   ]
  },
  {
   "cell_type": "markdown",
   "metadata": {},
   "source": [
    "# 5. Load `book_ratings` into a Surprise Dataset\n"
   ]
  },
  {
   "cell_type": "code",
   "execution_count": 31,
   "metadata": {},
   "outputs": [
    {
     "name": "stdout",
     "output_type": "stream",
     "text": [
      "Dataset loaded into Surprise format.\n"
     ]
    }
   ],
   "source": [
    "from surprise import Dataset\n",
    "\n",
    "# Load the filtered dataset into Surprise format\n",
    "data = Dataset.load_from_df(book_ratings_filtered[['user_id', 'book_id', 'rating']], reader)\n",
    "\n",
    "# Confirm the dataset is ready\n",
    "print(\"Dataset loaded into Surprise format.\")"
   ]
  },
  {
   "cell_type": "markdown",
   "metadata": {},
   "source": [
    "# 6. Create an 80:20 Train-Test Split and Set the Random State to 1\n"
   ]
  },
  {
   "cell_type": "code",
   "execution_count": 32,
   "metadata": {},
   "outputs": [],
   "source": [
    "from surprise.model_selection import train_test_split\n",
    "\n",
    "# Split the data into training (80%) and testing (20%) sets\n",
    "trainset, testset = train_test_split(data, test_size=0.2, random_state=1)\n"
   ]
  },
  {
   "cell_type": "markdown",
   "metadata": {},
   "source": [
    "# 7. Train a Collaborative Filter Using KNNBasic\n"
   ]
  },
  {
   "cell_type": "code",
   "execution_count": 33,
   "metadata": {},
   "outputs": [
    {
     "name": "stdout",
     "output_type": "stream",
     "text": [
      "Computing the msd similarity matrix...\n",
      "Done computing similarity matrix.\n",
      "Model trained successfully using KNNBasic.\n"
     ]
    }
   ],
   "source": [
    "from surprise import KNNBasic\n",
    "\n",
    "# Initialize and train the KNNBasic algorithm\n",
    "algo = KNNBasic()\n",
    "algo.fit(trainset)\n",
    "print(\"Model trained successfully using KNNBasic.\")\n"
   ]
  },
  {
   "cell_type": "markdown",
   "metadata": {},
   "source": [
    "# 8. Evaluate the Recommender System\n"
   ]
  },
  {
   "cell_type": "code",
   "execution_count": 34,
   "metadata": {},
   "outputs": [
    {
     "name": "stdout",
     "output_type": "stream",
     "text": [
      "RMSE: 1.0427\n",
      "RMSE: 1.0427242524656692\n"
     ]
    }
   ],
   "source": [
    "from surprise import accuracy\n",
    "\n",
    "# Make predictions on the test set and calculate RMSE\n",
    "predictions = algo.test(testset)\n",
    "rmse = accuracy.rmse(predictions)\n",
    "print(f\"RMSE: {rmse}\")\n"
   ]
  },
  {
   "cell_type": "markdown",
   "metadata": {},
   "source": [
    "# 9. Make a Prediction for a Specific User and Book\n"
   ]
  },
  {
   "cell_type": "code",
   "execution_count": 35,
   "metadata": {},
   "outputs": [
    {
     "name": "stdout",
     "output_type": "stream",
     "text": [
      "Predicted rating for user 8842281e1d1347389f2ab93d60773d4d and book 18007564: 3.81\n"
     ]
    }
   ],
   "source": [
    "# Predict the rating for the given user and book\n",
    "user_id = '8842281e1d1347389f2ab93d60773d4d'\n",
    "book_id = 18007564\n",
    "\n",
    "prediction = algo.predict(uid=user_id, iid=book_id)\n",
    "\n",
    "# Display the predicted rating\n",
    "print(f\"Predicted rating for user {user_id} and book {book_id}: {prediction.est:.2f}\")\n"
   ]
  }
 ],
 "metadata": {
  "kernelspec": {
   "display_name": "bookrecs-env",
   "language": "python",
   "name": "python3"
  },
  "language_info": {
   "codemirror_mode": {
    "name": "ipython",
    "version": 3
   },
   "file_extension": ".py",
   "mimetype": "text/x-python",
   "name": "python",
   "nbconvert_exporter": "python",
   "pygments_lexer": "ipython3",
   "version": "3.12.7"
  }
 },
 "nbformat": 4,
 "nbformat_minor": 2
}
